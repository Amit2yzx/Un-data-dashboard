{
 "cells": [
  {
   "cell_type": "markdown",
   "metadata": {},
   "source": [
    "# United Nations Voting Data Analysis\n",
    "\n",
    "This notebook analyzes the UN voting data from the `UN DATA.csv` file."
   ]
  },
  {
   "cell_type": "code",
   "execution_count": null,
   "metadata": {},
   "source": [
    "# Import necessary libraries\n",
    "import pandas as pd\n",
    "import numpy as np\n",
    "import matplotlib.pyplot as plt\n",
    "import seaborn as sns\n",
    "\n",
    "# Set visualization style\n",
    "sns.set_style('whitegrid')\n",
    "plt.rcParams['figure.figsize'] = (12, 8)"
   ]
  },
  {
   "cell_type": "code",
   "execution_count": null,
   "metadata": {},
   "source": [
    "# Load the UN voting data\n",
    "file_path = 'UN DATA.csv'\n",
    "df = pd.read_csv(file_path)\n",
    "\n",
    "# Display basic information about the dataset\n",
    "print(f\"Dataset shape: {df.shape}\")\n",
    "print(\"\\nFirst 5 rows:\")\n",
    "df.head()"
   ]
  },
  {
   "cell_type": "code",
   "execution_count": null,
   "metadata": {},
   "source": [
    "# Check column names and data types\n",
    "print(\"Column names:\")\n",
    "for col in df.columns:\n",
    "    print(f\"- {col}\")\n",
    "\n",
    "print(\"\\nData types:\")\n",
    "df.dtypes"
   ]
  },
  {
   "cell_type": "code",
   "execution_count": null,
   "metadata": {},
   "source": [
    "# Check for missing values\n",
    "missing_values = df.isnull().sum()\n",
    "print(\"Missing values per column:\")\n",
    "missing_values[missing_values > 0]"
   ]
  },
  {
   "cell_type": "markdown",
   "metadata": {},
   "source": [
    "## Basic Analysis of Voting Patterns"
   ]
  },
  {
   "cell_type": "code",
   "execution_count": null,
   "metadata": {},
   "source": [
    "# Distribution of votes by council\n",
    "council_counts = df['Council'].value_counts()\n",
    "plt.figure(figsize=(10, 6))\n",
    "council_counts.plot(kind='bar')\n",
    "plt.title('Number of Resolutions by Council')\n",
    "plt.xlabel('Council')\n",
    "plt.ylabel('Count')\n",
    "plt.xticks(rotation=45)\n",
    "plt.tight_layout()\n",
    "plt.show()"
   ]
  },
  {
   "cell_type": "code",
   "execution_count": null,
   "metadata": {},
   "source": [
    "# Analyze voting patterns (YES, NO, ABSENT, etc.)\n",
    "vote_columns = ['YES COUNT', 'NO COUNT', 'ABSENT COUNT']\n",
    "vote_data = df[vote_columns]\n",
    "\n",
    "# Calculate average votes per resolution\n",
    "avg_votes = vote_data.mean()\n",
    "plt.figure(figsize=(10, 6))\n",
    "avg_votes.plot(kind='bar')\n",
    "plt.title('Average Votes per Resolution')\n",
    "plt.xlabel('Vote Type')\n",
    "plt.ylabel('Average Count')\n",
    "plt.tight_layout()\n",
    "plt.show()"
   ]
  },
  {
   "cell_type": "markdown",
   "metadata": {},
   "source": [
    "## Analysis of Specific Countries' Voting Patterns"
   ]
  },
  {
   "cell_type": "code",
   "execution_count": null,
   "metadata": {},
   "source": [
    "# Select a few major countries to analyze\n",
    "countries = ['UNITED STATES', 'RUSSIAN FEDERATION', 'CHINA', 'UNITED KINGDOM', 'FRANCE']\n",
    "\n",
    "# Function to count vote types for a country\n",
    "def count_vote_types(country):\n",
    "    vote_counts = df[country].value_counts()\n",
    "    return vote_counts\n",
    "\n",
    "# Create a plot for each country\n",
    "plt.figure(figsize=(15, 10))\n",
    "for i, country in enumerate(countries, 1):\n",
    "    plt.subplot(2, 3, i)\n",
    "    vote_counts = count_vote_types(country)\n",
    "    vote_counts.plot(kind='bar')\n",
    "    plt.title(f'Voting Pattern: {country}')\n",
    "    plt.xlabel('Vote Type')\n",
    "    plt.ylabel('Count')\n",
    "    plt.xticks(rotation=45)\n",
    "plt.tight_layout()\n",
    "plt.show()"
   ]
  },
  {
   "cell_type": "markdown",
   "metadata": {},
   "source": [
    "## Voting Agreement Analysis"
   ]
  },
  {
   "cell_type": "code",
   "execution_count": null,
   "metadata": {},
   "source": [
    "# Function to calculate agreement percentage between two countries\n",
    "def calculate_agreement(country1, country2):\n",
    "    # Filter rows where both countries have valid votes (not NaN)\n",
    "    valid_votes = df.dropna(subset=[country1, country2])\n",
    "    \n",
    "    # Count agreements\n",
    "    agreements = (valid_votes[country1] == valid_votes[country2]).sum()\n",
    "    total = len(valid_votes)\n",
    "    \n",
    "    if total > 0:\n",
    "        return (agreements / total) * 100\n",
    "    else:\n",
    "        return 0\n",
    "\n",
    "# Create a matrix of agreement percentages\n",
    "agreement_matrix = pd.DataFrame(index=countries, columns=countries)\n",
    "\n",
    "for country1 in countries:\n",
    "    for country2 in countries:\n",
    "        agreement_matrix.loc[country1, country2] = calculate_agreement(country1, country2)\n",
    "\n",
    "# Plot heatmap\n",
    "plt.figure(figsize=(10, 8))\n",
    "sns.heatmap(agreement_matrix, annot=True, cmap='YlGnBu', fmt='.1f')\n",
    "plt.title('Voting Agreement Between Countries (%)')\n",
    "plt.tight_layout()\n",
    "plt.show()"
   ]
  },
  {
   "cell_type": "markdown",
   "metadata": {},
   "source": [
    "## Analysis by Resolution Topics"
   ]
  },
  {
   "cell_type": "code",
   "execution_count": null,
   "metadata": {},
   "source": [
    "# Extract keywords from resolution titles\n",
    "def extract_keywords(title):\n",
    "    keywords = ['nuclear', 'human rights', 'peace', 'security', 'economic', 'development', 'terrorism']\n",
    "    title_lower = title.lower()\n",
    "    for keyword in keywords:\n",
    "        if keyword in title_lower:\n",
    "            return keyword\n",
    "    return 'other'\n",
    "\n",
    "# Apply the function to create a new column\n",
    "df['Topic'] = df['Title'].apply(extract_keywords)\n",
    "\n",
    "# Count resolutions by topic\n",
    "topic_counts = df['Topic'].value_counts()\n",
    "\n",
    "# Plot\n",
    "plt.figure(figsize=(12, 6))\n",
    "topic_counts.plot(kind='bar')\n",
    "plt.title('Number of Resolutions by Topic')\n",
    "plt.xlabel('Topic')\n",
    "plt.ylabel('Count')\n",
    "plt.xticks(rotation=45)\n",
    "plt.tight_layout()\n",
    "plt.show()"
   ]
  },
  {
   "cell_type": "markdown",
   "metadata": {},
   "source": [
    "## Temporal Analysis"
   ]
  },
  {
   "cell_type": "code",
   "execution_count": null,
   "metadata": {},
   "source": [
    "# Extract year from the Date column\n",
    "df['Year'] = pd.to_datetime(df['Date'], errors='coerce').dt.year\n",
    "\n",
    "# Count resolutions by year\n",
    "yearly_counts = df['Year'].value_counts().sort_index()\n",
    "\n",
    "# Plot\n",
    "plt.figure(figsize=(15, 6))\n",
    "yearly_counts.plot(kind='line', marker='o')\n",
    "plt.title('Number of Resolutions by Year')\n",
    "plt.xlabel('Year')\n",
    "plt.ylabel('Count')\n",
    "plt.grid(True)\n",
    "plt.tight_layout()\n",
    "plt.show()"
   ]
  },
  {
   "cell_type": "markdown",
   "metadata": {},
   "source": [
    "## Conclusion\n",
    "\n",
    "This notebook provides a basic analysis of UN voting patterns. Further analysis could include:\n",
    "\n",
    "1. More detailed topic modeling using NLP techniques\n",
    "2. Clustering countries based on voting similarity\n",
    "3. Analyzing voting patterns on specific issues over time\n",
    "4. Examining the relationship between voting patterns and geopolitical events"
   ]
  }
 ],
 "metadata": {
  "kernelspec": {
   "display_name": "Python 3",
   "language": "python",
   "name": "python3"
  },
  "language_info": {
   "codemirror_mode": {
    "name": "ipython",
    "version": 3
   },
   "file_extension": ".py",
   "mimetype": "text/x-python",
   "name": "python",
   "nbconvert_exporter": "python",
   "pygments_lexer": "ipython3",
   "version": "3.8.10"
  }
 },
 "nbformat": 4,
 "nbformat_minor": 4
}
